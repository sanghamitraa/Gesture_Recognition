{
 "cells": [
  {
   "cell_type": "markdown",
   "id": "351663c5",
   "metadata": {},
   "source": [
    "# GESTURE RECOGNITION PROJECT"
   ]
  },
  {
   "cell_type": "markdown",
   "id": "7238df0e",
   "metadata": {},
   "source": [
    "## Problem Statement :"
   ]
  },
  {
   "cell_type": "markdown",
   "id": "a0570b85",
   "metadata": {},
   "source": [
    "Imagine you are working as a data scientist at a home electronics company which manufactures state of the art smart televisions. You want to develop a cool feature in the smart-TV that can recognise five different gestures performed by the user which will help users control the TV without using a remote.\n",
    "\n",
    "The gestures are continuously monitored by the webcam mounted on the TV. Each gesture corresponds to a specific command:\n",
    "\n",
    "- Thumbs up: Increase the volume\n",
    "- Thumbs down: Decrease the volume\n",
    "- Left swipe: 'Jump' backwards 10 seconds\n",
    "- Right swipe: 'Jump' forward 10 seconds\n",
    "- Stop: Pause the movie\n",
    "\n"
   ]
  },
  {
   "cell_type": "markdown",
   "id": "ea552ee5",
   "metadata": {},
   "source": [
    "## Project Objective and Model Architecture:\n",
    "Train a model that can correctly identify the 5 hand gestures based on the Test Data.\n",
    "For the same, there are two Architectures suggested.\n",
    "\n",
    "- 3D Convs and\n",
    "- CNN-RNN Stack\n",
    "\n",
    "3D convolutions are a natural extension to the 2D convolutions. Just like in 2D conv, you move the filter in two directions (x and y), in 3D conv, you move the filter in three directions (x, y and z). In this case, the input to a 3D conv is a video (which is a sequence of 30 RGB images).\n",
    "CNN-RNN stack- The conv2D network will extract a feature vector for each image, and a sequence of these feature vectors is then fed to an RNN-based network. The output of the RNN is a regular SoftMax (for a classification problem such as this one).\n",
    "\n"
   ]
  },
  {
   "cell_type": "code",
   "execution_count": 1,
   "id": "8e91895f",
   "metadata": {},
   "outputs": [],
   "source": [
    "# Importing the necessary libraries\n",
    "\n",
    "import numpy as np\n",
    "import os\n",
    "from skimage.transform import resize\n",
    "from imageio import imread\n",
    "import datetime\n",
    "import os\n",
    "import warnings\n",
    "warnings.filterwarnings(\"ignore\")\n",
    "import abc\n",
    "from sys import getsizeof"
   ]
  },
  {
   "cell_type": "code",
   "execution_count": 2,
   "id": "f7a6b109",
   "metadata": {},
   "outputs": [],
   "source": [
    "np.random.seed(30)\n",
    "import random as rn\n",
    "rn.seed(30)\n",
    "from keras import backend as K\n",
    "import tensorflow as tf\n",
    "tf.random.set_seed(30)\n"
   ]
  },
  {
   "cell_type": "code",
   "execution_count": 3,
   "id": "895a80e8",
   "metadata": {},
   "outputs": [],
   "source": [
    "import cv2\n",
    "import matplotlib.pyplot as plt\n",
    "%matplotlib inline"
   ]
  },
  {
   "cell_type": "code",
   "execution_count": 4,
   "id": "209abb03",
   "metadata": {},
   "outputs": [
    {
     "data": {
      "text/plain": [
       "keras.optimizer_v2.adam.Adam"
      ]
     },
     "execution_count": 4,
     "metadata": {},
     "output_type": "execute_result"
    }
   ],
   "source": [
    "# importing some other libraries which will be needed for model building.\n",
    "\n",
    "from keras.models import Sequential, Model\n",
    "from keras.layers import Dense, GRU, Flatten, TimeDistributed, Flatten, BatchNormalization, Activation\n",
    "from keras.layers.convolutional import Conv3D, MaxPooling3D, Conv2D, MaxPooling2D\n",
    "#from keras.layers.recurrent import LSTM\n",
    "from keras.layers import LSTM\n",
    "from keras.callbacks import ModelCheckpoint, ReduceLROnPlateau, EarlyStopping\n",
    "from keras import optimizers\n",
    "from keras.layers import Dropout\n",
    "tf.keras.optimizers.Adam"
   ]
  },
  {
   "cell_type": "code",
   "execution_count": 5,
   "id": "05be7ee7",
   "metadata": {},
   "outputs": [],
   "source": [
    "project_folder='/home/datasets/Project_data'"
   ]
  },
  {
   "cell_type": "markdown",
   "id": "00ad925a",
   "metadata": {},
   "source": [
    "# Plotting"
   ]
  },
  {
   "cell_type": "code",
   "execution_count": 6,
   "id": "542cd8d6",
   "metadata": {},
   "outputs": [],
   "source": [
    "# function to plot the training/validation accuracies/losses.\n",
    "\n",
    "def plot(history):\n",
    "    fig, axes = plt.subplots(nrows=1, ncols=2, figsize=(15,4))\n",
    "    axes[0].plot(history.history['loss'])   \n",
    "    axes[0].plot(history.history['val_loss'])\n",
    "    axes[0].grid()\n",
    "    axes[0].legend(['loss','val_loss'])\n",
    "    axes[1].plot(history.history['categorical_accuracy'])   \n",
    "    axes[1].plot(history.history['val_categorical_accuracy'])\n",
    "    axes[1].grid()\n",
    "    axes[1].legend(['categorical_accuracy','val_categorical_accuracy'])"
   ]
  },
  {
   "cell_type": "markdown",
   "id": "9c34d1f4",
   "metadata": {},
   "source": [
    "# Generator"
   ]
  },
  {
   "cell_type": "markdown",
   "id": "17193989",
   "metadata": {},
   "source": [
    "This is one of the most important part of the code. The overall structure of the generator has been given. In the generator, you are going to preprocess the images as you have images of 2 different dimensions as well as create a batch of video frames. You have to experiment with img_idx, y,z and normalization such that you get high accuracy."
   ]
  },
  {
   "cell_type": "code",
   "execution_count": 7,
   "id": "ab1083dd",
   "metadata": {},
   "outputs": [],
   "source": [
    "class ModelBuilder(metaclass= abc.ABCMeta):\n",
    "    # initialisng the path where project data resides\n",
    "    def initialize_path(self,project_folder):\n",
    "        self.train_doc = np.random.permutation(open(project_folder + '/' + 'train.csv').readlines())\n",
    "        self.val_doc = np.random.permutation(open(project_folder + '/' + 'val.csv').readlines())\n",
    "        self.train_path = project_folder + '/' + 'train'\n",
    "        self.val_path =  project_folder + '/' + 'val'\n",
    "        self.num_train_sequences = len(self.train_doc)\n",
    "        self.num_val_sequences = len(self.val_doc)\n",
    "    # initialising the image properties    \n",
    "    def initialize_image_properties(self,image_height=100,image_width=100):\n",
    "        self.image_height=image_height\n",
    "        self.image_width=image_width\n",
    "        self.channels=3\n",
    "        self.num_classes=5\n",
    "        self.total_frames=30\n",
    "    # initialising the batch size, frames to sample and the no. of epochs\n",
    "    def initialize_hyperparams(self,frames_to_sample=16,batch_size=8,num_epochs=20):\n",
    "        self.frames_to_sample=frames_to_sample\n",
    "        self.batch_size=batch_size\n",
    "        self.num_epochs=num_epochs\n",
    "        \n",
    "    # MOST IMPORTANT PART HERE - The generator function        \n",
    "    def generator(self,source_path, folder_list, augment=False):\n",
    "        img_idx = np.round(np.linspace(0,self.total_frames-1,self.frames_to_sample)).astype(int)\n",
    "        batch_size=self.batch_size\n",
    "        while True:\n",
    "            t = np.random.permutation(folder_list)\n",
    "            num_batches = len(t)//batch_size\n",
    "        \n",
    "            for batch in range(num_batches): \n",
    "                batch_data, batch_labels= self.one_batch_data(source_path,t,batch,batch_size,img_idx,augment)\n",
    "                yield batch_data, batch_labels \n",
    "\n",
    "            remaining_seq=len(t)%batch_size\n",
    "        \n",
    "            if (remaining_seq != 0):\n",
    "                batch_data, batch_labels= self.one_batch_data(source_path,t,num_batches,batch_size,img_idx,augment,remaining_seq)\n",
    "                yield batch_data, batch_labels \n",
    "    \n",
    "    \n",
    "    def one_batch_data(self,source_path,t,batch,batch_size,img_idx,augment,remaining_seq=0):\n",
    "    \n",
    "        seq_len = remaining_seq if remaining_seq else batch_size\n",
    "    \n",
    "        batch_data = np.zeros((seq_len,len(img_idx),self.image_height,self.image_width,self.channels)) \n",
    "        batch_labels = np.zeros((seq_len,self.num_classes)) \n",
    "    \n",
    "        if (augment): batch_data_aug = np.zeros((seq_len,len(img_idx),self.image_height,self.image_width,self.channels))\n",
    "\n",
    "        \n",
    "        for folder in range(seq_len): \n",
    "            imgs = os.listdir(source_path+'/'+ t[folder + (batch*batch_size)].split(';')[0]) \n",
    "            for idx,item in enumerate(img_idx):\n",
    "                #performing image reading and resizing\n",
    "                image = imread(source_path+'/'+ t[folder + (batch*batch_size)].strip().split(';')[0]+'/'+imgs[item]).astype(np.float32)\n",
    "                image_resized=resize(image,(self.image_height,self.image_width,3))\n",
    "            \n",
    "                #normalizing the images\n",
    "                batch_data[folder,idx,:,:,0] = (image_resized[:,:,0])/255\n",
    "                batch_data[folder,idx,:,:,1] = (image_resized[:,:,1])/255\n",
    "                batch_data[folder,idx,:,:,2] = (image_resized[:,:,2])/255\n",
    "            \n",
    "                if (augment):\n",
    "                    shifted = cv2.warpAffine(image, \n",
    "                                             np.float32([[1, 0, np.random.randint(-30,30)],[0, 1, np.random.randint(-30,30)]]), \n",
    "                                            (image.shape[1], image.shape[0]))\n",
    "                    \n",
    "                    gray = cv2.cvtColor(shifted,cv2.COLOR_BGR2GRAY)\n",
    "\n",
    "                    x0, y0 = np.argwhere(gray > 0).min(axis=0)\n",
    "                    x1, y1 = np.argwhere(gray > 0).max(axis=0) \n",
    "                    # cropping the images to have the targeted gestures and remove the noise from the images.\n",
    "                    cropped=shifted[x0:x1,y0:y1,:]\n",
    "                    \n",
    "                    image_resized=resize(cropped,(self.image_height,self.image_width,3))\n",
    "                    \n",
    "                    #shifted = cv2.warpAffine(image_resized, \n",
    "                    #                        np.float32([[1, 0, np.random.randint(-3,3)],[0, 1, np.random.randint(-3,3)]]), \n",
    "                    #                        (image_resized.shape[1], image_resized.shape[0]))\n",
    "            \n",
    "                    batch_data_aug[folder,idx,:,:,0] = (image_resized[:,:,0])/255\n",
    "                    batch_data_aug[folder,idx,:,:,1] = (image_resized[:,:,1])/255\n",
    "                    batch_data_aug[folder,idx,:,:,2] = (image_resized[:,:,2])/255\n",
    "                    \n",
    "                 \n",
    "                batch_labels[folder, int(t[folder + (batch*batch_size)].strip().split(';')[2])] = 1\n",
    "            \n",
    "    \n",
    "        if (augment):\n",
    "            batch_data=np.concatenate([batch_data,batch_data_aug])\n",
    "            batch_labels=np.concatenate([batch_labels,batch_labels])\n",
    "\n",
    "        \n",
    "        return(batch_data,batch_labels)\n",
    "    \n",
    "    \n",
    "    def train_model(self, model, augment_data=False):\n",
    "        train_generator = self.generator(self.train_path, self.train_doc,augment=augment_data)\n",
    "        val_generator = self.generator(self.val_path, self.val_doc)\n",
    "\n",
    "        model_name = 'model_init' + '_' + str(datetime.datetime.now()).replace(' ','').replace(':','_') + '/'\n",
    "    \n",
    "        if not os.path.exists(model_name):\n",
    "            os.mkdir(model_name)\n",
    "        \n",
    "        filepath = model_name + 'model-{epoch:05d}-{loss:.5f}-{categorical_accuracy:.5f}-{val_loss:.5f}-{val_categorical_accuracy:.5f}.h5'\n",
    "\n",
    "        checkpoint = ModelCheckpoint(filepath, monitor='val_loss', verbose=1, save_best_only=True, save_weights_only=False, mode='auto', period=1)\n",
    "        LR = ReduceLROnPlateau(monitor='val_loss', factor=0.2, verbose=1, patience=4)\n",
    "        \n",
    "        earlystop = EarlyStopping( monitor=\"val_loss\", min_delta=0,patience=10,verbose=1)\n",
    "        callbacks_list = [checkpoint, LR, earlystop]\n",
    "\n",
    "        if (self.num_train_sequences%self.batch_size) == 0:\n",
    "            steps_per_epoch = int(self.num_train_sequences/self.batch_size)\n",
    "        else:\n",
    "            steps_per_epoch = (self.num_train_sequences//self.batch_size) + 1\n",
    "\n",
    "        if (self.num_val_sequences%self.batch_size) == 0:\n",
    "            validation_steps = int(self.num_val_sequences/self.batch_size)\n",
    "        else:\n",
    "            validation_steps = (self.num_val_sequences//self.batch_size) + 1\n",
    "    \n",
    "        history=model.fit_generator(train_generator, steps_per_epoch=steps_per_epoch, epochs=self.num_epochs, verbose=1, \n",
    "                            callbacks=callbacks_list, validation_data=val_generator, \n",
    "                            validation_steps=validation_steps, class_weight=None, workers=1, initial_epoch=0)\n",
    "        return history\n",
    "\n",
    "        \n",
    "    @abc.abstractmethod\n",
    "    def define_model(self):\n",
    "        pass"
   ]
  },
  {
   "cell_type": "markdown",
   "id": "8cf15eb8",
   "metadata": {},
   "source": [
    "# Model"
   ]
  },
  {
   "cell_type": "markdown",
   "id": "39922ce3",
   "metadata": {},
   "source": [
    "Here you make the model using different functionalities that Keras provides. Remember to use Conv3D and MaxPooling3D and not Conv2D and Maxpooling2D for a 3D convolution model. You would want to use TimeDistributed while building a Conv2D + RNN model. Also remember that the last layer is the softmax. Design the network in such a way that the model is able to give good accuracy on the least number of parameters so that it can fit in the memory of the webcam."
   ]
  },
  {
   "cell_type": "markdown",
   "id": "e5314c9c",
   "metadata": {},
   "source": [
    "# Convolution 3D Model"
   ]
  },
  {
   "cell_type": "code",
   "execution_count": 8,
   "id": "3410292b",
   "metadata": {},
   "outputs": [],
   "source": [
    "class ModelConv3D1(ModelBuilder):\n",
    "    \n",
    "    def define_model(self):\n",
    "\n",
    "        model = Sequential()\n",
    "        model.add(Conv3D(16, (3, 3, 3), padding='same',\n",
    "                 input_shape=(self.frames_to_sample,self.image_height,self.image_width,self.channels)))\n",
    "        model.add(Activation('relu'))\n",
    "        model.add(BatchNormalization())\n",
    "        model.add(MaxPooling3D(pool_size=(2, 2, 2)))\n",
    "\n",
    "        model.add(Conv3D(32, (2, 2, 2), padding='same'))\n",
    "        model.add(Activation('relu'))\n",
    "        model.add(BatchNormalization())\n",
    "        model.add(MaxPooling3D(pool_size=(2, 2, 2)))\n",
    "\n",
    "        model.add(Conv3D(64, (2, 2, 2), padding='same'))\n",
    "        model.add(Activation('relu'))\n",
    "        model.add(BatchNormalization())\n",
    "        model.add(MaxPooling3D(pool_size=(2, 2, 2)))\n",
    "\n",
    "        model.add(Conv3D(128, (2, 2, 2), padding='same'))\n",
    "        model.add(Activation('relu'))\n",
    "        model.add(BatchNormalization())\n",
    "        model.add(MaxPooling3D(pool_size=(2, 2, 2)))\n",
    "\n",
    "        model.add(Flatten())\n",
    "        model.add(Dense(128,activation='relu'))\n",
    "        model.add(BatchNormalization())\n",
    "        model.add(Dropout(0.5))\n",
    "\n",
    "        model.add(Dense(64,activation='relu'))\n",
    "        model.add(BatchNormalization())\n",
    "        model.add(Dropout(0.25))\n",
    "\n",
    "\n",
    "        model.add(Dense(self.num_classes,activation='softmax'))\n",
    "\n",
    "        #optimiser = optimizers.Adam()\n",
    "        optimizer = tf.keras.optimizers.Adam()\n",
    "        #optimiser = 'sgd'\n",
    "        model.compile(optimizer = tf.keras.optimizers.Adam(), loss='categorical_crossentropy', metrics=['categorical_accuracy'])\n",
    "        return model"
   ]
  },
  {
   "cell_type": "code",
   "execution_count": 9,
   "id": "d1bdb136",
   "metadata": {},
   "outputs": [
    {
     "name": "stdout",
     "output_type": "stream",
     "text": [
      "Model: \"sequential\"\n",
      "_________________________________________________________________\n",
      " Layer (type)                Output Shape              Param #   \n",
      "=================================================================\n",
      " conv3d (Conv3D)             (None, 30, 128, 128, 16)  1312      \n",
      "                                                                 \n",
      " activation (Activation)     (None, 30, 128, 128, 16)  0         \n",
      "                                                                 \n",
      " batch_normalization (BatchN  (None, 30, 128, 128, 16)  64       \n",
      " ormalization)                                                   \n",
      "                                                                 \n",
      " max_pooling3d (MaxPooling3D  (None, 15, 64, 64, 16)   0         \n",
      " )                                                               \n",
      "                                                                 \n",
      " conv3d_1 (Conv3D)           (None, 15, 64, 64, 32)    4128      \n",
      "                                                                 \n",
      " activation_1 (Activation)   (None, 15, 64, 64, 32)    0         \n",
      "                                                                 \n",
      " batch_normalization_1 (Batc  (None, 15, 64, 64, 32)   128       \n",
      " hNormalization)                                                 \n",
      "                                                                 \n",
      " max_pooling3d_1 (MaxPooling  (None, 7, 32, 32, 32)    0         \n",
      " 3D)                                                             \n",
      "                                                                 \n",
      " conv3d_2 (Conv3D)           (None, 7, 32, 32, 64)     16448     \n",
      "                                                                 \n",
      " activation_2 (Activation)   (None, 7, 32, 32, 64)     0         \n",
      "                                                                 \n",
      " batch_normalization_2 (Batc  (None, 7, 32, 32, 64)    256       \n",
      " hNormalization)                                                 \n",
      "                                                                 \n",
      " max_pooling3d_2 (MaxPooling  (None, 3, 16, 16, 64)    0         \n",
      " 3D)                                                             \n",
      "                                                                 \n",
      " conv3d_3 (Conv3D)           (None, 3, 16, 16, 128)    65664     \n",
      "                                                                 \n",
      " activation_3 (Activation)   (None, 3, 16, 16, 128)    0         \n",
      "                                                                 \n",
      " batch_normalization_3 (Batc  (None, 3, 16, 16, 128)   512       \n",
      " hNormalization)                                                 \n",
      "                                                                 \n",
      " max_pooling3d_3 (MaxPooling  (None, 1, 8, 8, 128)     0         \n",
      " 3D)                                                             \n",
      "                                                                 \n",
      " flatten (Flatten)           (None, 8192)              0         \n",
      "                                                                 \n",
      " dense (Dense)               (None, 128)               1048704   \n",
      "                                                                 \n",
      " batch_normalization_4 (Batc  (None, 128)              512       \n",
      " hNormalization)                                                 \n",
      "                                                                 \n",
      " dropout (Dropout)           (None, 128)               0         \n",
      "                                                                 \n",
      " dense_1 (Dense)             (None, 64)                8256      \n",
      "                                                                 \n",
      " batch_normalization_5 (Batc  (None, 64)               256       \n",
      " hNormalization)                                                 \n",
      "                                                                 \n",
      " dropout_1 (Dropout)         (None, 64)                0         \n",
      "                                                                 \n",
      " dense_2 (Dense)             (None, 5)                 325       \n",
      "                                                                 \n",
      "=================================================================\n",
      "Total params: 1,146,565\n",
      "Trainable params: 1,145,701\n",
      "Non-trainable params: 864\n",
      "_________________________________________________________________\n"
     ]
    },
    {
     "name": "stderr",
     "output_type": "stream",
     "text": [
      "2023-03-10 14:57:08.001173: W tensorflow/core/common_runtime/gpu/gpu_bfc_allocator.cc:39] Overriding allow_growth setting because the TF_FORCE_GPU_ALLOW_GROWTH environment variable is set. Original config value was 0.\n",
      "2023-03-10 14:57:08.001237: I tensorflow/core/common_runtime/gpu/gpu_device.cc:1525] Created device /job:localhost/replica:0/task:0/device:GPU:0 with 14802 MB memory:  -> device: 0, name: Quadro RTX 5000, pci bus id: 0000:1c:00.0, compute capability: 7.5\n"
     ]
    }
   ],
   "source": [
    "conv_3d1=ModelConv3D1()\n",
    "conv_3d1.initialize_path(project_folder)\n",
    "conv_3d1.initialize_image_properties(image_height=128,image_width=128)\n",
    "conv_3d1.initialize_hyperparams(frames_to_sample=30,batch_size=10,num_epochs=10)\n",
    "conv_3d1_model=conv_3d1.define_model()\n",
    "conv_3d1_model.summary()"
   ]
  },
  {
   "cell_type": "markdown",
   "id": "f19926fe",
   "metadata": {},
   "source": [
    "### Sample Cropping"
   ]
  },
  {
   "cell_type": "code",
   "execution_count": 10,
   "id": "42a6ef39",
   "metadata": {},
   "outputs": [
    {
     "data": {
      "image/png": "[encoded data removed]",
      "text/plain": [
       "<Figure size 432x288 with 2 Axes>"
      ]
     },
     "metadata": {
      "needs_background": "light"
     },
     "output_type": "display_data"
    }
   ],
   "source": [
    "test_generator=ModelConv3D1()\n",
    "test_generator.initialize_path(project_folder)\n",
    "test_generator.initialize_image_properties(image_height=160,image_width=160)\n",
    "test_generator.initialize_hyperparams(frames_to_sample=30,batch_size=3,num_epochs=10)\n",
    "\n",
    "g=test_generator.generator(test_generator.val_path,test_generator.val_doc,augment=True)\n",
    "batch_data, batch_labels=next(g)\n",
    "fig, axes = plt.subplots(nrows=1, ncols=2)\n",
    "axes[0].imshow(batch_data[0,15,:,:,:])   \n",
    "axes[1].imshow(batch_data[3,15,:,:,:])   \n",
    "plt.show()"
   ]
  },
  {
   "cell_type": "code",
   "execution_count": 52,
   "id": "8c9041d7",
   "metadata": {},
   "outputs": [
    {
     "name": "stdout",
     "output_type": "stream",
     "text": [
      "Total Params: 1146565\n",
      "WARNING:tensorflow:`period` argument is deprecated. Please use `save_freq` to specify the frequency in number of batches seen.\n",
      "Epoch 1/10\n",
      "67/67 [==============================] - ETA: 0s - loss: 1.5464 - categorical_accuracy: 0.4193\n",
      "Epoch 00001: val_loss improved from inf to 5.54409, saving model to model_init_2023-03-0912_08_32.638318/model-00001-1.54643-0.41931-5.54409-0.21000.h5\n",
      "67/67 [==============================] - 163s 2s/step - loss: 1.5464 - categorical_accuracy: 0.4193 - val_loss: 5.5441 - val_categorical_accuracy: 0.2100 - lr: 0.0010\n",
      "Epoch 2/10\n",
      "67/67 [==============================] - ETA: 0s - loss: 1.2695 - categorical_accuracy: 0.5204\n",
      "Epoch 00002: val_loss improved from 5.54409 to 4.82499, saving model to model_init_2023-03-0912_08_32.638318/model-00002-1.26953-0.52036-4.82499-0.20000.h5\n",
      "67/67 [==============================] - 161s 2s/step - loss: 1.2695 - categorical_accuracy: 0.5204 - val_loss: 4.8250 - val_categorical_accuracy: 0.2000 - lr: 0.0010\n",
      "Epoch 3/10\n",
      "67/67 [==============================] - ETA: 0s - loss: 0.9215 - categorical_accuracy: 0.6456\n",
      "Epoch 00003: val_loss did not improve from 4.82499\n",
      "67/67 [==============================] - 163s 2s/step - loss: 0.9215 - categorical_accuracy: 0.6456 - val_loss: 5.1498 - val_categorical_accuracy: 0.2100 - lr: 0.0010\n",
      "Epoch 4/10\n",
      "67/67 [==============================] - ETA: 0s - loss: 0.8098 - categorical_accuracy: 0.6923\n",
      "Epoch 00004: val_loss did not improve from 4.82499\n",
      "67/67 [==============================] - 160s 2s/step - loss: 0.8098 - categorical_accuracy: 0.6923 - val_loss: 5.3581 - val_categorical_accuracy: 0.2000 - lr: 0.0010\n",
      "Epoch 5/10\n",
      "67/67 [==============================] - ETA: 0s - loss: 0.6737 - categorical_accuracy: 0.7436\n",
      "Epoch 00005: val_loss improved from 4.82499 to 4.55622, saving model to model_init_2023-03-0912_08_32.638318/model-00005-0.67374-0.74359-4.55622-0.17000.h5\n",
      "67/67 [==============================] - 163s 2s/step - loss: 0.6737 - categorical_accuracy: 0.7436 - val_loss: 4.5562 - val_categorical_accuracy: 0.1700 - lr: 0.0010\n",
      "Epoch 6/10\n",
      "67/67 [==============================] - ETA: 0s - loss: 0.5551 - categorical_accuracy: 0.7858\n",
      "Epoch 00006: val_loss improved from 4.55622 to 3.09893, saving model to model_init_2023-03-0912_08_32.638318/model-00006-0.55509-0.78582-3.09893-0.25000.h5\n",
      "67/67 [==============================] - 159s 2s/step - loss: 0.5551 - categorical_accuracy: 0.7858 - val_loss: 3.0989 - val_categorical_accuracy: 0.2500 - lr: 0.0010\n",
      "Epoch 7/10\n",
      "67/67 [==============================] - ETA: 0s - loss: 0.5410 - categorical_accuracy: 0.8054\n",
      "Epoch 00007: val_loss improved from 3.09893 to 2.93345, saving model to model_init_2023-03-0912_08_32.638318/model-00007-0.54097-0.80543-2.93345-0.34000.h5\n",
      "67/67 [==============================] - 163s 2s/step - loss: 0.5410 - categorical_accuracy: 0.8054 - val_loss: 2.9334 - val_categorical_accuracy: 0.3400 - lr: 0.0010\n",
      "Epoch 8/10\n",
      "67/67 [==============================] - ETA: 0s - loss: 0.4584 - categorical_accuracy: 0.8326\n",
      "Epoch 00008: val_loss improved from 2.93345 to 2.16570, saving model to model_init_2023-03-0912_08_32.638318/model-00008-0.45842-0.83258-2.16570-0.39000.h5\n",
      "67/67 [==============================] - 163s 2s/step - loss: 0.4584 - categorical_accuracy: 0.8326 - val_loss: 2.1657 - val_categorical_accuracy: 0.3900 - lr: 0.0010\n",
      "Epoch 9/10\n",
      "67/67 [==============================] - ETA: 0s - loss: 0.3309 - categorical_accuracy: 0.8884\n",
      "Epoch 00009: val_loss improved from 2.16570 to 1.00621, saving model to model_init_2023-03-0912_08_32.638318/model-00009-0.33088-0.88839-1.00621-0.58000.h5\n",
      "67/67 [==============================] - 162s 2s/step - loss: 0.3309 - categorical_accuracy: 0.8884 - val_loss: 1.0062 - val_categorical_accuracy: 0.5800 - lr: 0.0010\n",
      "Epoch 10/10\n",
      "67/67 [==============================] - ETA: 0s - loss: 0.3305 - categorical_accuracy: 0.8899\n",
      "Epoch 00010: val_loss improved from 1.00621 to 0.45105, saving model to model_init_2023-03-0912_08_32.638318/model-00010-0.33052-0.88989-0.45105-0.84000.h5\n",
      "67/67 [==============================] - 161s 2s/step - loss: 0.3305 - categorical_accuracy: 0.8899 - val_loss: 0.4511 - val_categorical_accuracy: 0.8400 - lr: 0.0010\n"
     ]
    },
    {
     "data": {
      "text/plain": [
       "<keras.callbacks.History at 0x7f54849a9d90>"
      ]
     },
     "execution_count": 52,
     "metadata": {},
     "output_type": "execute_result"
    }
   ],
   "source": [
    "print(\"Total Params:\", conv_3d1_model.count_params())\n",
    "conv_3d1.train_model(conv_3d1_model)"
   ]
  },
  {
   "cell_type": "code",
   "execution_count": null,
   "id": "eadd4c77",
   "metadata": {},
   "outputs": [],
   "source": [
    "The above model is performing well.The training accuracy is 89% and the validation accuracy is 84% ,also validation loss is decreasing."
   ]
  },
  {
   "cell_type": "code",
   "execution_count": 11,
   "id": "0909054e",
   "metadata": {},
   "outputs": [
    {
     "name": "stdout",
     "output_type": "stream",
     "text": [
      "Total Params: 1146565\n",
      "WARNING:tensorflow:`period` argument is deprecated. Please use `save_freq` to specify the frequency in number of batches seen.\n",
      "Epoch 1/10\n"
     ]
    },
    {
     "name": "stderr",
     "output_type": "stream",
     "text": [
      "2023-03-10 14:58:07.459978: I tensorflow/stream_executor/cuda/cuda_dnn.cc:377] Loaded cuDNN version 8302\n"
     ]
    },
    {
     "name": "stdout",
     "output_type": "stream",
     "text": [
      "34/34 [==============================] - ETA: 0s - loss: 1.6179 - categorical_accuracy: 0.4389\n",
      "Epoch 00001: val_loss improved from inf to 1.86668, saving model to model_init_2023-03-1014_58_01.560953/model-00001-1.61790-0.43891-1.86668-0.16000.h5\n",
      "34/34 [==============================] - 169s 5s/step - loss: 1.6179 - categorical_accuracy: 0.4389 - val_loss: 1.8667 - val_categorical_accuracy: 0.1600 - lr: 0.0010\n",
      "Epoch 2/10\n",
      "34/34 [==============================] - ETA: 0s - loss: 1.1044 - categorical_accuracy: 0.5747\n",
      "Epoch 00002: val_loss did not improve from 1.86668\n",
      "34/34 [==============================] - 168s 5s/step - loss: 1.1044 - categorical_accuracy: 0.5747 - val_loss: 2.9599 - val_categorical_accuracy: 0.2700 - lr: 0.0010\n",
      "Epoch 3/10\n",
      "34/34 [==============================] - ETA: 0s - loss: 0.8272 - categorical_accuracy: 0.6787\n",
      "Epoch 00003: val_loss did not improve from 1.86668\n",
      "34/34 [==============================] - 162s 5s/step - loss: 0.8272 - categorical_accuracy: 0.6787 - val_loss: 4.3691 - val_categorical_accuracy: 0.1400 - lr: 0.0010\n",
      "Epoch 4/10\n",
      "34/34 [==============================] - ETA: 0s - loss: 0.7895 - categorical_accuracy: 0.6908\n",
      "Epoch 00004: val_loss did not improve from 1.86668\n",
      "34/34 [==============================] - 166s 5s/step - loss: 0.7895 - categorical_accuracy: 0.6908 - val_loss: 3.9995 - val_categorical_accuracy: 0.2900 - lr: 0.0010\n",
      "Epoch 5/10\n",
      "34/34 [==============================] - ETA: 0s - loss: 0.5917 - categorical_accuracy: 0.7783\n",
      "Epoch 00005: val_loss did not improve from 1.86668\n",
      "\n",
      "Epoch 00005: ReduceLROnPlateau reducing learning rate to 0.00020000000949949026.\n",
      "34/34 [==============================] - 163s 5s/step - loss: 0.5917 - categorical_accuracy: 0.7783 - val_loss: 4.9455 - val_categorical_accuracy: 0.2100 - lr: 0.0010\n",
      "Epoch 6/10\n",
      "34/34 [==============================] - ETA: 0s - loss: 0.4295 - categorical_accuracy: 0.8492\n",
      "Epoch 00006: val_loss did not improve from 1.86668\n",
      "34/34 [==============================] - 161s 5s/step - loss: 0.4295 - categorical_accuracy: 0.8492 - val_loss: 5.0235 - val_categorical_accuracy: 0.2100 - lr: 2.0000e-04\n",
      "Epoch 7/10\n",
      "34/34 [==============================] - ETA: 0s - loss: 0.4014 - categorical_accuracy: 0.8718\n",
      "Epoch 00007: val_loss did not improve from 1.86668\n",
      "34/34 [==============================] - 163s 5s/step - loss: 0.4014 - categorical_accuracy: 0.8718 - val_loss: 4.4385 - val_categorical_accuracy: 0.2400 - lr: 2.0000e-04\n",
      "Epoch 8/10\n",
      "34/34 [==============================] - ETA: 0s - loss: 0.3726 - categorical_accuracy: 0.8703\n",
      "Epoch 00008: val_loss did not improve from 1.86668\n",
      "34/34 [==============================] - 162s 5s/step - loss: 0.3726 - categorical_accuracy: 0.8703 - val_loss: 4.0148 - val_categorical_accuracy: 0.2100 - lr: 2.0000e-04\n",
      "Epoch 9/10\n",
      "34/34 [==============================] - ETA: 0s - loss: 0.3065 - categorical_accuracy: 0.9065\n",
      "Epoch 00009: val_loss did not improve from 1.86668\n",
      "\n",
      "Epoch 00009: ReduceLROnPlateau reducing learning rate to 4.0000001899898055e-05.\n",
      "34/34 [==============================] - 162s 5s/step - loss: 0.3065 - categorical_accuracy: 0.9065 - val_loss: 3.6499 - val_categorical_accuracy: 0.2000 - lr: 2.0000e-04\n",
      "Epoch 10/10\n",
      "34/34 [==============================] - ETA: 0s - loss: 0.3223 - categorical_accuracy: 0.8824\n",
      "Epoch 00010: val_loss did not improve from 1.86668\n",
      "34/34 [==============================] - 161s 5s/step - loss: 0.3223 - categorical_accuracy: 0.8824 - val_loss: 3.0739 - val_categorical_accuracy: 0.2500 - lr: 4.0000e-05\n"
     ]
    },
    {
     "data": {
      "text/plain": [
       "<keras.callbacks.History at 0x7fbdd0b9ba00>"
      ]
     },
     "execution_count": 11,
     "metadata": {},
     "output_type": "execute_result"
    }
   ],
   "source": [
    "conv_3d1=ModelConv3D1()\n",
    "conv_3d1.initialize_path(project_folder)\n",
    "conv_3d1.initialize_image_properties(image_height=128,image_width=128)\n",
    "conv_3d1.initialize_hyperparams(frames_to_sample=30,batch_size= 20,num_epochs=10)\n",
    "conv_3d1_model=conv_3d1.define_model()\n",
    "print(\"Total Params:\", conv_3d1_model.count_params())\n",
    "conv_3d1.train_model(conv_3d1_model)"
   ]
  },
  {
   "cell_type": "markdown",
   "id": "5e33d038",
   "metadata": {},
   "source": [
    "clearly we can see the val_loss did not improve and the model is overfitting"
   ]
  },
  {
   "cell_type": "code",
   "execution_count": null,
   "id": "f7e41740",
   "metadata": {},
   "outputs": [],
   "source": []
  },
  {
   "cell_type": "code",
   "execution_count": 24,
   "id": "a49102bf",
   "metadata": {},
   "outputs": [
    {
     "name": "stdout",
     "output_type": "stream",
     "text": [
      "Total Params: 687813\n",
      "WARNING:tensorflow:`period` argument is deprecated. Please use `save_freq` to specify the frequency in number of batches seen.\n",
      "Epoch 1/15\n",
      "45/45 [==============================] - ETA: 0s - loss: 1.6797 - categorical_accuracy: 0.3876\n",
      "Epoch 00001: val_loss improved from inf to 4.04314, saving model to model_init_2023-03-0916_42_33.080839/model-00001-1.67966-0.38763-4.04314-0.16000.h5\n",
      "45/45 [==============================] - 160s 4s/step - loss: 1.6797 - categorical_accuracy: 0.3876 - val_loss: 4.0431 - val_categorical_accuracy: 0.1600 - lr: 0.0010\n",
      "Epoch 2/15\n",
      "45/45 [==============================] - ETA: 0s - loss: 1.0729 - categorical_accuracy: 0.5671\n",
      "Epoch 00002: val_loss did not improve from 4.04314\n",
      "45/45 [==============================] - 158s 4s/step - loss: 1.0729 - categorical_accuracy: 0.5671 - val_loss: 5.6568 - val_categorical_accuracy: 0.1600 - lr: 0.0010\n",
      "Epoch 3/15\n",
      "45/45 [==============================] - ETA: 0s - loss: 0.8616 - categorical_accuracy: 0.6561\n",
      "Epoch 00003: val_loss did not improve from 4.04314\n",
      "45/45 [==============================] - 156s 4s/step - loss: 0.8616 - categorical_accuracy: 0.6561 - val_loss: 6.4562 - val_categorical_accuracy: 0.1800 - lr: 0.0010\n",
      "Epoch 4/15\n",
      "45/45 [==============================] - ETA: 0s - loss: 0.6910 - categorical_accuracy: 0.7255\n",
      "Epoch 00004: val_loss did not improve from 4.04314\n",
      "45/45 [==============================] - 156s 4s/step - loss: 0.6910 - categorical_accuracy: 0.7255 - val_loss: 7.1985 - val_categorical_accuracy: 0.1500 - lr: 0.0010\n",
      "Epoch 5/15\n",
      "45/45 [==============================] - ETA: 0s - loss: 0.5865 - categorical_accuracy: 0.7768\n",
      "Epoch 00005: val_loss did not improve from 4.04314\n",
      "\n",
      "Epoch 00005: ReduceLROnPlateau reducing learning rate to 0.00020000000949949026.\n",
      "45/45 [==============================] - 157s 4s/step - loss: 0.5865 - categorical_accuracy: 0.7768 - val_loss: 5.8772 - val_categorical_accuracy: 0.1600 - lr: 0.0010\n",
      "Epoch 6/15\n",
      "45/45 [==============================] - ETA: 0s - loss: 0.4844 - categorical_accuracy: 0.8220\n",
      "Epoch 00006: val_loss did not improve from 4.04314\n",
      "45/45 [==============================] - 156s 4s/step - loss: 0.4844 - categorical_accuracy: 0.8220 - val_loss: 5.0791 - val_categorical_accuracy: 0.1600 - lr: 2.0000e-04\n",
      "Epoch 7/15\n",
      "45/45 [==============================] - ETA: 0s - loss: 0.4382 - categorical_accuracy: 0.8462\n",
      "Epoch 00007: val_loss did not improve from 4.04314\n",
      "45/45 [==============================] - 155s 4s/step - loss: 0.4382 - categorical_accuracy: 0.8462 - val_loss: 4.1177 - val_categorical_accuracy: 0.1800 - lr: 2.0000e-04\n",
      "Epoch 8/15\n",
      "45/45 [==============================] - ETA: 0s - loss: 0.3560 - categorical_accuracy: 0.8793\n",
      "Epoch 00008: val_loss improved from 4.04314 to 3.02803, saving model to model_init_2023-03-0916_42_33.080839/model-00008-0.35602-0.87934-3.02803-0.22000.h5\n",
      "45/45 [==============================] - 155s 4s/step - loss: 0.3560 - categorical_accuracy: 0.8793 - val_loss: 3.0280 - val_categorical_accuracy: 0.2200 - lr: 2.0000e-04\n",
      "Epoch 9/15\n",
      "45/45 [==============================] - ETA: 0s - loss: 0.3196 - categorical_accuracy: 0.8914\n",
      "Epoch 00009: val_loss improved from 3.02803 to 2.46650, saving model to model_init_2023-03-0916_42_33.080839/model-00009-0.31962-0.89140-2.46650-0.27000.h5\n",
      "45/45 [==============================] - 157s 4s/step - loss: 0.3196 - categorical_accuracy: 0.8914 - val_loss: 2.4665 - val_categorical_accuracy: 0.2700 - lr: 2.0000e-04\n",
      "Epoch 10/15\n",
      "45/45 [==============================] - ETA: 0s - loss: 0.3299 - categorical_accuracy: 0.8929\n",
      "Epoch 00010: val_loss improved from 2.46650 to 1.48609, saving model to model_init_2023-03-0916_42_33.080839/model-00010-0.32985-0.89291-1.48609-0.58000.h5\n",
      "45/45 [==============================] - 158s 4s/step - loss: 0.3299 - categorical_accuracy: 0.8929 - val_loss: 1.4861 - val_categorical_accuracy: 0.5800 - lr: 2.0000e-04\n",
      "Epoch 11/15\n",
      "45/45 [==============================] - ETA: 0s - loss: 0.2567 - categorical_accuracy: 0.9201\n",
      "Epoch 00011: val_loss improved from 1.48609 to 1.21317, saving model to model_init_2023-03-0916_42_33.080839/model-00011-0.25673-0.92006-1.21317-0.54000.h5\n",
      "45/45 [==============================] - 156s 4s/step - loss: 0.2567 - categorical_accuracy: 0.9201 - val_loss: 1.2132 - val_categorical_accuracy: 0.5400 - lr: 2.0000e-04\n",
      "Epoch 12/15\n",
      "45/45 [==============================] - ETA: 0s - loss: 0.2672 - categorical_accuracy: 0.9201\n",
      "Epoch 00012: val_loss improved from 1.21317 to 0.74975, saving model to model_init_2023-03-0916_42_33.080839/model-00012-0.26717-0.92006-0.74975-0.73000.h5\n",
      "45/45 [==============================] - 157s 4s/step - loss: 0.2672 - categorical_accuracy: 0.9201 - val_loss: 0.7498 - val_categorical_accuracy: 0.7300 - lr: 2.0000e-04\n",
      "Epoch 13/15\n",
      "45/45 [==============================] - ETA: 0s - loss: 0.2309 - categorical_accuracy: 0.9276\n",
      "Epoch 00013: val_loss improved from 0.74975 to 0.38376, saving model to model_init_2023-03-0916_42_33.080839/model-00013-0.23092-0.92760-0.38376-0.84000.h5\n",
      "45/45 [==============================] - 155s 4s/step - loss: 0.2309 - categorical_accuracy: 0.9276 - val_loss: 0.3838 - val_categorical_accuracy: 0.8400 - lr: 2.0000e-04\n",
      "Epoch 14/15\n",
      "45/45 [==============================] - ETA: 0s - loss: 0.2216 - categorical_accuracy: 0.9186\n",
      "Epoch 00014: val_loss improved from 0.38376 to 0.32191, saving model to model_init_2023-03-0916_42_33.080839/model-00014-0.22159-0.91855-0.32191-0.87000.h5\n",
      "45/45 [==============================] - 157s 4s/step - loss: 0.2216 - categorical_accuracy: 0.9186 - val_loss: 0.3219 - val_categorical_accuracy: 0.8700 - lr: 2.0000e-04\n",
      "Epoch 15/15\n",
      "45/45 [==============================] - ETA: 0s - loss: 0.2355 - categorical_accuracy: 0.9216\n",
      "Epoch 00015: val_loss did not improve from 0.32191\n",
      "45/45 [==============================] - 156s 4s/step - loss: 0.2355 - categorical_accuracy: 0.9216 - val_loss: 0.3390 - val_categorical_accuracy: 0.9000 - lr: 2.0000e-04\n"
     ]
    },
    {
     "data": {
      "text/plain": [
       "<keras.callbacks.History at 0x7f389d3bee80>"
      ]
     },
     "execution_count": 24,
     "metadata": {},
     "output_type": "execute_result"
    }
   ],
   "source": [
    "conv_3d1=ModelConv3D1()\n",
    "conv_3d1.initialize_path(project_folder)\n",
    "conv_3d1.initialize_image_properties(image_height=100,image_width=100)\n",
    "conv_3d1.initialize_hyperparams(frames_to_sample=30,batch_size= 15,num_epochs=15)\n",
    "conv_3d1_model=conv_3d1.define_model()\n",
    "print(\"Total Params:\", conv_3d1_model.count_params())\n",
    "conv_3d1.train_model(conv_3d1_model)"
   ]
  },
  {
   "cell_type": "markdown",
   "id": "7b0bf06e",
   "metadata": {},
   "source": [
    "#### Adding droupout layer in the model"
   ]
  },
  {
   "cell_type": "code",
   "execution_count": 12,
   "id": "21fc8978",
   "metadata": {},
   "outputs": [],
   "source": [
    "class ModelConv3D1(ModelBuilder):\n",
    "    \n",
    "    def define_model(self,filtersize=(3,3,3),dense_neurons=64,dropout=0.25):\n",
    "\n",
    "        model = Sequential()\n",
    "        model.add(Conv3D(16, filtersize, padding='same',\n",
    "                 input_shape=(self.frames_to_sample,self.image_height,self.image_width,self.channels)))\n",
    "        model.add(Activation('relu'))\n",
    "        model.add(BatchNormalization())\n",
    "        model.add(MaxPooling3D(pool_size=(2, 2, 2)))\n",
    "\n",
    "        model.add(Conv3D(32, filtersize, padding='same'))\n",
    "        model.add(Activation('relu'))\n",
    "        model.add(BatchNormalization())\n",
    "        model.add(MaxPooling3D(pool_size=(2, 2, 2)))\n",
    "\n",
    "        model.add(Conv3D(64, filtersize, padding='same'))\n",
    "        model.add(Activation('relu'))\n",
    "        model.add(BatchNormalization())\n",
    "        model.add(MaxPooling3D(pool_size=(2, 2, 2)))\n",
    "\n",
    "        model.add(Conv3D(128, filtersize, padding='same'))\n",
    "        model.add(Activation('relu'))\n",
    "        model.add(BatchNormalization())\n",
    "        model.add(MaxPooling3D(pool_size=(2, 2, 2)))\n",
    "\n",
    "        model.add(Flatten())\n",
    "        model.add(Dense(dense_neurons,activation='relu'))\n",
    "        model.add(BatchNormalization())\n",
    "        model.add(Dropout(dropout))\n",
    "\n",
    "        model.add(Dense(dense_neurons,activation='relu'))\n",
    "        model.add(BatchNormalization())\n",
    "        model.add(Dropout(dropout))\n",
    "\n",
    "\n",
    "        model.add(Dense(self.num_classes,activation='softmax'))\n",
    "\n",
    "        optimizer = tf.keras.optimizers.Adam()\n",
    "        model.compile(optimizer = tf.keras.optimizers.Adam(), loss='categorical_crossentropy', metrics=['categorical_accuracy'])\n",
    "        return model"
   ]
  },
  {
   "cell_type": "code",
   "execution_count": 13,
   "id": "88ed4042",
   "metadata": {},
   "outputs": [
    {
     "name": "stdout",
     "output_type": "stream",
     "text": [
      "Model: \"sequential_2\"\n",
      "_________________________________________________________________\n",
      " Layer (type)                Output Shape              Param #   \n",
      "=================================================================\n",
      " conv3d_8 (Conv3D)           (None, 20, 160, 160, 16)  1312      \n",
      "                                                                 \n",
      " activation_8 (Activation)   (None, 20, 160, 160, 16)  0         \n",
      "                                                                 \n",
      " batch_normalization_12 (Bat  (None, 20, 160, 160, 16)  64       \n",
      " chNormalization)                                                \n",
      "                                                                 \n",
      " max_pooling3d_8 (MaxPooling  (None, 10, 80, 80, 16)   0         \n",
      " 3D)                                                             \n",
      "                                                                 \n",
      " conv3d_9 (Conv3D)           (None, 10, 80, 80, 32)    13856     \n",
      "                                                                 \n",
      " activation_9 (Activation)   (None, 10, 80, 80, 32)    0         \n",
      "                                                                 \n",
      " batch_normalization_13 (Bat  (None, 10, 80, 80, 32)   128       \n",
      " chNormalization)                                                \n",
      "                                                                 \n",
      " max_pooling3d_9 (MaxPooling  (None, 5, 40, 40, 32)    0         \n",
      " 3D)                                                             \n",
      "                                                                 \n",
      " conv3d_10 (Conv3D)          (None, 5, 40, 40, 64)     55360     \n",
      "                                                                 \n",
      " activation_10 (Activation)  (None, 5, 40, 40, 64)     0         \n",
      "                                                                 \n",
      " batch_normalization_14 (Bat  (None, 5, 40, 40, 64)    256       \n",
      " chNormalization)                                                \n",
      "                                                                 \n",
      " max_pooling3d_10 (MaxPoolin  (None, 2, 20, 20, 64)    0         \n",
      " g3D)                                                            \n",
      "                                                                 \n",
      " conv3d_11 (Conv3D)          (None, 2, 20, 20, 128)    221312    \n",
      "                                                                 \n",
      " activation_11 (Activation)  (None, 2, 20, 20, 128)    0         \n",
      "                                                                 \n",
      " batch_normalization_15 (Bat  (None, 2, 20, 20, 128)   512       \n",
      " chNormalization)                                                \n",
      "                                                                 \n",
      " max_pooling3d_11 (MaxPoolin  (None, 1, 10, 10, 128)   0         \n",
      " g3D)                                                            \n",
      "                                                                 \n",
      " flatten_2 (Flatten)         (None, 12800)             0         \n",
      "                                                                 \n",
      " dense_6 (Dense)             (None, 64)                819264    \n",
      "                                                                 \n",
      " batch_normalization_16 (Bat  (None, 64)               256       \n",
      " chNormalization)                                                \n",
      "                                                                 \n",
      " dropout_4 (Dropout)         (None, 64)                0         \n",
      "                                                                 \n",
      " dense_7 (Dense)             (None, 64)                4160      \n",
      "                                                                 \n",
      " batch_normalization_17 (Bat  (None, 64)               256       \n",
      " chNormalization)                                                \n",
      "                                                                 \n",
      " dropout_5 (Dropout)         (None, 64)                0         \n",
      "                                                                 \n",
      " dense_8 (Dense)             (None, 5)                 325       \n",
      "                                                                 \n",
      "=================================================================\n",
      "Total params: 1,117,061\n",
      "Trainable params: 1,116,325\n",
      "Non-trainable params: 736\n",
      "_________________________________________________________________\n"
     ]
    }
   ],
   "source": [
    "conv_3d1=ModelConv3D1()\n",
    "conv_3d1.initialize_path(project_folder)\n",
    "conv_3d1.initialize_image_properties(image_height=160,image_width=160)\n",
    "conv_3d1.initialize_hyperparams(frames_to_sample=20,batch_size=30,num_epochs=10)\n",
    "conv_3d1_model=conv_3d1.define_model()\n",
    "conv_3d1_model.summary()"
   ]
  },
  {
   "cell_type": "code",
   "execution_count": 22,
   "id": "822391a9",
   "metadata": {},
   "outputs": [
    {
     "name": "stdout",
     "output_type": "stream",
     "text": [
      "Total Params: 1117061\n",
      "WARNING:tensorflow:`period` argument is deprecated. Please use `save_freq` to specify the frequency in number of batches seen.\n",
      "Epoch 1/10\n"
     ]
    },
    {
     "name": "stderr",
     "output_type": "stream",
     "text": [
      "2023-03-10 05:41:46.914372: I tensorflow/stream_executor/cuda/cuda_dnn.cc:377] Loaded cuDNN version 8302\n"
     ]
    },
    {
     "name": "stdout",
     "output_type": "stream",
     "text": [
      "23/23 [==============================] - ETA: 0s - loss: 1.4167 - categorical_accuracy: 0.4465\n",
      "Epoch 00001: val_loss improved from inf to 2.12992, saving model to model_init_2023-03-1005_41_40.065622/model-00001-1.41672-0.44646-2.12992-0.16000.h5\n",
      "23/23 [==============================] - 124s 5s/step - loss: 1.4167 - categorical_accuracy: 0.4465 - val_loss: 2.1299 - val_categorical_accuracy: 0.1600 - lr: 0.0010\n",
      "Epoch 2/10\n",
      "23/23 [==============================] - ETA: 0s - loss: 0.8392 - categorical_accuracy: 0.6817\n",
      "Epoch 00002: val_loss did not improve from 2.12992\n",
      "23/23 [==============================] - 116s 5s/step - loss: 0.8392 - categorical_accuracy: 0.6817 - val_loss: 2.2396 - val_categorical_accuracy: 0.2100 - lr: 0.0010\n",
      "Epoch 3/10\n",
      "23/23 [==============================] - ETA: 0s - loss: 0.6563 - categorical_accuracy: 0.7557\n",
      "Epoch 00003: val_loss did not improve from 2.12992\n",
      "23/23 [==============================] - 111s 5s/step - loss: 0.6563 - categorical_accuracy: 0.7557 - val_loss: 2.8059 - val_categorical_accuracy: 0.2300 - lr: 0.0010\n",
      "Epoch 4/10\n",
      "23/23 [==============================] - ETA: 0s - loss: 0.5652 - categorical_accuracy: 0.7903\n",
      "Epoch 00004: val_loss did not improve from 2.12992\n",
      "23/23 [==============================] - 108s 5s/step - loss: 0.5652 - categorical_accuracy: 0.7903 - val_loss: 3.2882 - val_categorical_accuracy: 0.2000 - lr: 0.0010\n",
      "Epoch 5/10\n",
      "23/23 [==============================] - ETA: 0s - loss: 0.3599 - categorical_accuracy: 0.8763\n",
      "Epoch 00005: val_loss did not improve from 2.12992\n",
      "\n",
      "Epoch 00005: ReduceLROnPlateau reducing learning rate to 0.00020000000949949026.\n",
      "23/23 [==============================] - 112s 5s/step - loss: 0.3599 - categorical_accuracy: 0.8763 - val_loss: 3.6222 - val_categorical_accuracy: 0.2100 - lr: 0.0010\n",
      "Epoch 6/10\n",
      "23/23 [==============================] - ETA: 0s - loss: 0.3132 - categorical_accuracy: 0.9020\n",
      "Epoch 00006: val_loss did not improve from 2.12992\n",
      "23/23 [==============================] - 111s 5s/step - loss: 0.3132 - categorical_accuracy: 0.9020 - val_loss: 3.5687 - val_categorical_accuracy: 0.2100 - lr: 2.0000e-04\n",
      "Epoch 7/10\n",
      "23/23 [==============================] - ETA: 0s - loss: 0.2844 - categorical_accuracy: 0.9125\n",
      "Epoch 00007: val_loss did not improve from 2.12992\n",
      "23/23 [==============================] - 111s 5s/step - loss: 0.2844 - categorical_accuracy: 0.9125 - val_loss: 4.1568 - val_categorical_accuracy: 0.2100 - lr: 2.0000e-04\n",
      "Epoch 8/10\n",
      "23/23 [==============================] - ETA: 0s - loss: 0.2417 - categorical_accuracy: 0.9261\n",
      "Epoch 00008: val_loss did not improve from 2.12992\n",
      "23/23 [==============================] - 112s 5s/step - loss: 0.2417 - categorical_accuracy: 0.9261 - val_loss: 4.2292 - val_categorical_accuracy: 0.1800 - lr: 2.0000e-04\n",
      "Epoch 9/10\n",
      "23/23 [==============================] - ETA: 0s - loss: 0.2048 - categorical_accuracy: 0.9502\n",
      "Epoch 00009: val_loss did not improve from 2.12992\n",
      "\n",
      "Epoch 00009: ReduceLROnPlateau reducing learning rate to 4.0000001899898055e-05.\n",
      "23/23 [==============================] - 117s 5s/step - loss: 0.2048 - categorical_accuracy: 0.9502 - val_loss: 3.8569 - val_categorical_accuracy: 0.2100 - lr: 2.0000e-04\n",
      "Epoch 10/10\n",
      "23/23 [==============================] - ETA: 0s - loss: 0.2266 - categorical_accuracy: 0.9382\n",
      "Epoch 00010: val_loss did not improve from 2.12992\n",
      "23/23 [==============================] - 116s 5s/step - loss: 0.2266 - categorical_accuracy: 0.9382 - val_loss: 3.8215 - val_categorical_accuracy: 0.2500 - lr: 4.0000e-05\n"
     ]
    }
   ],
   "source": [
    "print(\"Total Params:\", conv_3d1_model.count_params())\n",
    "history_model1 = conv_3d1.train_model(conv_3d1_model)"
   ]
  },
  {
   "cell_type": "code",
   "execution_count": 23,
   "id": "512a3282",
   "metadata": {},
   "outputs": [
    {
     "data": {
      "image/png": "[encoded data removed]",
      "text/plain": [
       "<Figure size 1080x288 with 2 Axes>"
      ]
     },
     "metadata": {
      "needs_background": "light"
     },
     "output_type": "display_data"
    }
   ],
   "source": [
    "plot(history_model1)"
   ]
  },
  {
   "cell_type": "markdown",
   "id": "1de36d37",
   "metadata": {},
   "source": [
    "This shows the model is overfitting."
   ]
  },
  {
   "cell_type": "code",
   "execution_count": 14,
   "id": "12841ebf",
   "metadata": {},
   "outputs": [
    {
     "name": "stdout",
     "output_type": "stream",
     "text": [
      "Model: \"sequential_3\"\n",
      "_________________________________________________________________\n",
      " Layer (type)                Output Shape              Param #   \n",
      "=================================================================\n",
      " conv3d_12 (Conv3D)          (None, 20, 160, 160, 16)  1312      \n",
      "                                                                 \n",
      " activation_12 (Activation)  (None, 20, 160, 160, 16)  0         \n",
      "                                                                 \n",
      " batch_normalization_18 (Bat  (None, 20, 160, 160, 16)  64       \n",
      " chNormalization)                                                \n",
      "                                                                 \n",
      " max_pooling3d_12 (MaxPoolin  (None, 10, 80, 80, 16)   0         \n",
      " g3D)                                                            \n",
      "                                                                 \n",
      " conv3d_13 (Conv3D)          (None, 10, 80, 80, 32)    13856     \n",
      "                                                                 \n",
      " activation_13 (Activation)  (None, 10, 80, 80, 32)    0         \n",
      "                                                                 \n",
      " batch_normalization_19 (Bat  (None, 10, 80, 80, 32)   128       \n",
      " chNormalization)                                                \n",
      "                                                                 \n",
      " max_pooling3d_13 (MaxPoolin  (None, 5, 40, 40, 32)    0         \n",
      " g3D)                                                            \n",
      "                                                                 \n",
      " conv3d_14 (Conv3D)          (None, 5, 40, 40, 64)     55360     \n",
      "                                                                 \n",
      " activation_14 (Activation)  (None, 5, 40, 40, 64)     0         \n",
      "                                                                 \n",
      " batch_normalization_20 (Bat  (None, 5, 40, 40, 64)    256       \n",
      " chNormalization)                                                \n",
      "                                                                 \n",
      " max_pooling3d_14 (MaxPoolin  (None, 2, 20, 20, 64)    0         \n",
      " g3D)                                                            \n",
      "                                                                 \n",
      " conv3d_15 (Conv3D)          (None, 2, 20, 20, 128)    221312    \n",
      "                                                                 \n",
      " activation_15 (Activation)  (None, 2, 20, 20, 128)    0         \n",
      "                                                                 \n",
      " batch_normalization_21 (Bat  (None, 2, 20, 20, 128)   512       \n",
      " chNormalization)                                                \n",
      "                                                                 \n",
      " max_pooling3d_15 (MaxPoolin  (None, 1, 10, 10, 128)   0         \n",
      " g3D)                                                            \n",
      "                                                                 \n",
      " flatten_3 (Flatten)         (None, 12800)             0         \n",
      "                                                                 \n",
      " dense_9 (Dense)             (None, 256)               3277056   \n",
      "                                                                 \n",
      " batch_normalization_22 (Bat  (None, 256)              1024      \n",
      " chNormalization)                                                \n",
      "                                                                 \n",
      " dropout_6 (Dropout)         (None, 256)               0         \n",
      "                                                                 \n",
      " dense_10 (Dense)            (None, 256)               65792     \n",
      "                                                                 \n",
      " batch_normalization_23 (Bat  (None, 256)              1024      \n",
      " chNormalization)                                                \n",
      "                                                                 \n",
      " dropout_7 (Dropout)         (None, 256)               0         \n",
      "                                                                 \n",
      " dense_11 (Dense)            (None, 5)                 1285      \n",
      "                                                                 \n",
      "=================================================================\n",
      "Total params: 3,638,981\n",
      "Trainable params: 3,637,477\n",
      "Non-trainable params: 1,504\n",
      "_________________________________________________________________\n"
     ]
    }
   ],
   "source": [
    "conv_3d2=ModelConv3D1()\n",
    "conv_3d2.initialize_path(project_folder)\n",
    "conv_3d2.initialize_image_properties(image_height=160,image_width=160)\n",
    "conv_3d2.initialize_hyperparams(frames_to_sample=20,batch_size=20,num_epochs=20)\n",
    "conv_3d2_model=conv_3d2.define_model(dense_neurons=256,dropout=0.5)\n",
    "conv_3d2_model.summary()"
   ]
  },
  {
   "cell_type": "code",
   "execution_count": 25,
   "id": "3e8e2d2c",
   "metadata": {},
   "outputs": [
    {
     "name": "stdout",
     "output_type": "stream",
     "text": [
      "Total Params: 3638981\n",
      "WARNING:tensorflow:`period` argument is deprecated. Please use `save_freq` to specify the frequency in number of batches seen.\n",
      "Epoch 1/20\n",
      "34/34 [==============================] - ETA: 0s - loss: 2.0593 - categorical_accuracy: 0.3544\n",
      "Epoch 00001: val_loss improved from inf to 4.47111, saving model to model_init_2023-03-1006_14_51.444407/model-00001-2.05929-0.35445-4.47111-0.21000.h5\n",
      "34/34 [==============================] - 222s 7s/step - loss: 2.0593 - categorical_accuracy: 0.3544 - val_loss: 4.4711 - val_categorical_accuracy: 0.2100 - lr: 0.0010\n",
      "Epoch 2/20\n",
      "34/34 [==============================] - ETA: 0s - loss: 1.4603 - categorical_accuracy: 0.5106\n",
      "Epoch 00002: val_loss did not improve from 4.47111\n",
      "34/34 [==============================] - 225s 7s/step - loss: 1.4603 - categorical_accuracy: 0.5106 - val_loss: 11.1610 - val_categorical_accuracy: 0.2400 - lr: 0.0010\n",
      "Epoch 3/20\n",
      "34/34 [==============================] - ETA: 0s - loss: 1.0978 - categorical_accuracy: 0.6078\n",
      "Epoch 00003: val_loss did not improve from 4.47111\n",
      "34/34 [==============================] - 229s 7s/step - loss: 1.0978 - categorical_accuracy: 0.6078 - val_loss: 14.6944 - val_categorical_accuracy: 0.1600 - lr: 0.0010\n",
      "Epoch 4/20\n",
      "34/34 [==============================] - ETA: 0s - loss: 0.8486 - categorical_accuracy: 0.6946\n",
      "Epoch 00004: val_loss did not improve from 4.47111\n",
      "34/34 [==============================] - 211s 6s/step - loss: 0.8486 - categorical_accuracy: 0.6946 - val_loss: 27.5696 - val_categorical_accuracy: 0.2500 - lr: 0.0010\n",
      "Epoch 5/20\n",
      "34/34 [==============================] - ETA: 0s - loss: 0.6882 - categorical_accuracy: 0.7715\n",
      "Epoch 00005: val_loss did not improve from 4.47111\n",
      "\n",
      "Epoch 00005: ReduceLROnPlateau reducing learning rate to 0.00020000000949949026.\n",
      "34/34 [==============================] - 208s 6s/step - loss: 0.6882 - categorical_accuracy: 0.7715 - val_loss: 26.2127 - val_categorical_accuracy: 0.2100 - lr: 0.0010\n",
      "Epoch 6/20\n",
      "34/34 [==============================] - ETA: 0s - loss: 0.5963 - categorical_accuracy: 0.7851\n",
      "Epoch 00006: val_loss did not improve from 4.47111\n",
      "34/34 [==============================] - 207s 6s/step - loss: 0.5963 - categorical_accuracy: 0.7851 - val_loss: 31.3211 - val_categorical_accuracy: 0.2100 - lr: 2.0000e-04\n",
      "Epoch 7/20\n",
      "34/34 [==============================] - ETA: 0s - loss: 0.4507 - categorical_accuracy: 0.8311\n",
      "Epoch 00007: val_loss did not improve from 4.47111\n",
      "34/34 [==============================] - 207s 6s/step - loss: 0.4507 - categorical_accuracy: 0.8311 - val_loss: 24.7952 - val_categorical_accuracy: 0.1600 - lr: 2.0000e-04\n",
      "Epoch 8/20\n",
      "34/34 [==============================] - ETA: 0s - loss: 0.4207 - categorical_accuracy: 0.8477\n",
      "Epoch 00008: val_loss did not improve from 4.47111\n",
      "34/34 [==============================] - 208s 6s/step - loss: 0.4207 - categorical_accuracy: 0.8477 - val_loss: 14.1662 - val_categorical_accuracy: 0.2300 - lr: 2.0000e-04\n",
      "Epoch 9/20\n",
      "34/34 [==============================] - ETA: 0s - loss: 0.3592 - categorical_accuracy: 0.8710\n",
      "Epoch 00009: val_loss did not improve from 4.47111\n",
      "\n",
      "Epoch 00009: ReduceLROnPlateau reducing learning rate to 4.0000001899898055e-05.\n",
      "34/34 [==============================] - 208s 6s/step - loss: 0.3592 - categorical_accuracy: 0.8710 - val_loss: 11.4888 - val_categorical_accuracy: 0.2800 - lr: 2.0000e-04\n",
      "Epoch 10/20\n",
      "34/34 [==============================] - ETA: 0s - loss: 0.3174 - categorical_accuracy: 0.8906\n",
      "Epoch 00010: val_loss did not improve from 4.47111\n",
      "34/34 [==============================] - 207s 6s/step - loss: 0.3174 - categorical_accuracy: 0.8906 - val_loss: 10.8792 - val_categorical_accuracy: 0.2000 - lr: 4.0000e-05\n",
      "Epoch 11/20\n",
      "34/34 [==============================] - ETA: 0s - loss: 0.3124 - categorical_accuracy: 0.8816\n",
      "Epoch 00011: val_loss did not improve from 4.47111\n",
      "34/34 [==============================] - 206s 6s/step - loss: 0.3124 - categorical_accuracy: 0.8816 - val_loss: 9.2536 - val_categorical_accuracy: 0.2100 - lr: 4.0000e-05\n",
      "Epoch 00011: early stopping\n"
     ]
    }
   ],
   "source": [
    "print(\"Total Params:\", conv_3d2_model.count_params())\n",
    "history_model2=conv_3d2.train_model(conv_3d2_model,augment_data=True)"
   ]
  },
  {
   "cell_type": "markdown",
   "id": "c6ed82b7",
   "metadata": {},
   "source": [
    "#### The val_loss did not improve from 4.47111 so early stopping happed."
   ]
  },
  {
   "cell_type": "markdown",
   "id": "7fa2d21f",
   "metadata": {},
   "source": [
    "# CNN- LSTM Model"
   ]
  },
  {
   "cell_type": "code",
   "execution_count": 15,
   "id": "314bfaa9",
   "metadata": {},
   "outputs": [],
   "source": [
    "class RNNCNN1(ModelBuilder):\n",
    "    \n",
    "    def define_model(self,lstm_cells=64,dense_neurons=64,dropout=0.25):\n",
    "\n",
    "        model = Sequential()\n",
    "\n",
    "        model.add(TimeDistributed(Conv2D(16, (3, 3) , padding='same', activation='relu'),\n",
    "                                  input_shape=(self.frames_to_sample,self.image_height,self.image_width,self.channels)))\n",
    "        model.add(TimeDistributed(BatchNormalization()))\n",
    "        model.add(TimeDistributed(MaxPooling2D((2, 2))))\n",
    "        \n",
    "        model.add(TimeDistributed(Conv2D(32, (3, 3) , padding='same', activation='relu')))\n",
    "        model.add(TimeDistributed(BatchNormalization()))\n",
    "        model.add(TimeDistributed(MaxPooling2D((2, 2))))\n",
    "        \n",
    "        model.add(TimeDistributed(Conv2D(64, (3, 3) , padding='same', activation='relu')))\n",
    "        model.add(TimeDistributed(BatchNormalization()))\n",
    "        model.add(TimeDistributed(MaxPooling2D((2, 2))))\n",
    "        \n",
    "        model.add(TimeDistributed(Conv2D(128, (3, 3) , padding='same', activation='relu')))\n",
    "        model.add(TimeDistributed(BatchNormalization()))\n",
    "        model.add(TimeDistributed(MaxPooling2D((2, 2))))\n",
    "        \n",
    "        model.add(TimeDistributed(Conv2D(256, (3, 3) , padding='same', activation='relu')))\n",
    "        model.add(TimeDistributed(BatchNormalization()))\n",
    "        model.add(TimeDistributed(MaxPooling2D((2, 2))))\n",
    "        \n",
    "        \n",
    "\n",
    "        model.add(TimeDistributed(Flatten()))\n",
    "\n",
    "\n",
    "        model.add(LSTM(lstm_cells))\n",
    "        model.add(Dropout(dropout))\n",
    "        \n",
    "        model.add(Dense(dense_neurons,activation='relu'))\n",
    "        model.add(Dropout(dropout))\n",
    "        \n",
    "        model.add(Dense(self.num_classes, activation='softmax'))\n",
    "        optimizer = tf.keras.optimizers.Adam()\n",
    "        model.compile(optimizer = tf.keras.optimizers.Adam(), loss='categorical_crossentropy', metrics=['categorical_accuracy'])\n",
    "        return model"
   ]
  },
  {
   "cell_type": "code",
   "execution_count": 16,
   "id": "aa28a13d",
   "metadata": {},
   "outputs": [
    {
     "name": "stdout",
     "output_type": "stream",
     "text": [
      "Model: \"sequential_4\"\n",
      "_________________________________________________________________\n",
      " Layer (type)                Output Shape              Param #   \n",
      "=================================================================\n",
      " time_distributed (TimeDistr  (None, 30, 128, 128, 16)  448      \n",
      " ibuted)                                                         \n",
      "                                                                 \n",
      " time_distributed_1 (TimeDis  (None, 30, 128, 128, 16)  64       \n",
      " tributed)                                                       \n",
      "                                                                 \n",
      " time_distributed_2 (TimeDis  (None, 30, 64, 64, 16)   0         \n",
      " tributed)                                                       \n",
      "                                                                 \n",
      " time_distributed_3 (TimeDis  (None, 30, 64, 64, 32)   4640      \n",
      " tributed)                                                       \n",
      "                                                                 \n",
      " time_distributed_4 (TimeDis  (None, 30, 64, 64, 32)   128       \n",
      " tributed)                                                       \n",
      "                                                                 \n",
      " time_distributed_5 (TimeDis  (None, 30, 32, 32, 32)   0         \n",
      " tributed)                                                       \n",
      "                                                                 \n",
      " time_distributed_6 (TimeDis  (None, 30, 32, 32, 64)   18496     \n",
      " tributed)                                                       \n",
      "                                                                 \n",
      " time_distributed_7 (TimeDis  (None, 30, 32, 32, 64)   256       \n",
      " tributed)                                                       \n",
      "                                                                 \n",
      " time_distributed_8 (TimeDis  (None, 30, 16, 16, 64)   0         \n",
      " tributed)                                                       \n",
      "                                                                 \n",
      " time_distributed_9 (TimeDis  (None, 30, 16, 16, 128)  73856     \n",
      " tributed)                                                       \n",
      "                                                                 \n",
      " time_distributed_10 (TimeDi  (None, 30, 16, 16, 128)  512       \n",
      " stributed)                                                      \n",
      "                                                                 \n",
      " time_distributed_11 (TimeDi  (None, 30, 8, 8, 128)    0         \n",
      " stributed)                                                      \n",
      "                                                                 \n",
      " time_distributed_12 (TimeDi  (None, 30, 8, 8, 256)    295168    \n",
      " stributed)                                                      \n",
      "                                                                 \n",
      " time_distributed_13 (TimeDi  (None, 30, 8, 8, 256)    1024      \n",
      " stributed)                                                      \n",
      "                                                                 \n",
      " time_distributed_14 (TimeDi  (None, 30, 4, 4, 256)    0         \n",
      " stributed)                                                      \n",
      "                                                                 \n",
      " time_distributed_15 (TimeDi  (None, 30, 4096)         0         \n",
      " stributed)                                                      \n",
      "                                                                 \n",
      " lstm (LSTM)                 (None, 128)               2163200   \n",
      "                                                                 \n",
      " dropout_8 (Dropout)         (None, 128)               0         \n",
      "                                                                 \n",
      " dense_12 (Dense)            (None, 128)               16512     \n",
      "                                                                 \n",
      " dropout_9 (Dropout)         (None, 128)               0         \n",
      "                                                                 \n",
      " dense_13 (Dense)            (None, 5)                 645       \n",
      "                                                                 \n",
      "=================================================================\n",
      "Total params: 2,574,949\n",
      "Trainable params: 2,573,957\n",
      "Non-trainable params: 992\n",
      "_________________________________________________________________\n"
     ]
    }
   ],
   "source": [
    "rnn_cnn1=RNNCNN1()\n",
    "rnn_cnn1.initialize_path(project_folder)\n",
    "rnn_cnn1.initialize_image_properties(image_height=128,image_width=128)\n",
    "rnn_cnn1.initialize_hyperparams(frames_to_sample=30,batch_size=20,num_epochs=10)\n",
    "rnn_cnn1_model=rnn_cnn1.define_model(lstm_cells=128,dense_neurons=128,dropout=0.25)\n",
    "rnn_cnn1_model.summary()"
   ]
  },
  {
   "cell_type": "code",
   "execution_count": 30,
   "id": "055204c5",
   "metadata": {},
   "outputs": [
    {
     "name": "stdout",
     "output_type": "stream",
     "text": [
      "Total Params: 2574949\n",
      "WARNING:tensorflow:`period` argument is deprecated. Please use `save_freq` to specify the frequency in number of batches seen.\n",
      "Epoch 1/10\n",
      "34/34 [==============================] - ETA: 0s - loss: 1.4123 - categorical_accuracy: 0.4027\n",
      "Epoch 00001: val_loss improved from inf to 1.67747, saving model to model_init_2023-03-1007_04_18.947703/model-00001-1.41226-0.40271-1.67747-0.23000.h5\n",
      "34/34 [==============================] - 294s 9s/step - loss: 1.4123 - categorical_accuracy: 0.4027 - val_loss: 1.6775 - val_categorical_accuracy: 0.2300 - lr: 0.0010\n",
      "Epoch 2/10\n",
      "34/34 [==============================] - ETA: 0s - loss: 1.0726 - categorical_accuracy: 0.5588\n",
      "Epoch 00002: val_loss did not improve from 1.67747\n",
      "34/34 [==============================] - 310s 9s/step - loss: 1.0726 - categorical_accuracy: 0.5588 - val_loss: 2.3228 - val_categorical_accuracy: 0.1500 - lr: 0.0010\n",
      "Epoch 3/10\n",
      "34/34 [==============================] - ETA: 0s - loss: 0.9284 - categorical_accuracy: 0.6403\n",
      "Epoch 00003: val_loss did not improve from 1.67747\n",
      "34/34 [==============================] - 293s 9s/step - loss: 0.9284 - categorical_accuracy: 0.6403 - val_loss: 2.2253 - val_categorical_accuracy: 0.2100 - lr: 0.0010\n",
      "Epoch 4/10\n",
      "34/34 [==============================] - ETA: 0s - loss: 0.8887 - categorical_accuracy: 0.6584\n",
      "Epoch 00004: val_loss did not improve from 1.67747\n",
      "34/34 [==============================] - 298s 9s/step - loss: 0.8887 - categorical_accuracy: 0.6584 - val_loss: 1.9972 - val_categorical_accuracy: 0.2900 - lr: 0.0010\n",
      "Epoch 5/10\n",
      "34/34 [==============================] - ETA: 0s - loss: 0.7492 - categorical_accuracy: 0.7210\n",
      "Epoch 00005: val_loss did not improve from 1.67747\n",
      "\n",
      "Epoch 00005: ReduceLROnPlateau reducing learning rate to 0.00020000000949949026.\n",
      "34/34 [==============================] - 298s 9s/step - loss: 0.7492 - categorical_accuracy: 0.7210 - val_loss: 2.7093 - val_categorical_accuracy: 0.2800 - lr: 0.0010\n",
      "Epoch 6/10\n",
      "34/34 [==============================] - ETA: 0s - loss: 0.5972 - categorical_accuracy: 0.7805\n",
      "Epoch 00006: val_loss did not improve from 1.67747\n",
      "34/34 [==============================] - 297s 9s/step - loss: 0.5972 - categorical_accuracy: 0.7805 - val_loss: 2.7710 - val_categorical_accuracy: 0.1500 - lr: 2.0000e-04\n",
      "Epoch 7/10\n",
      "34/34 [==============================] - ETA: 0s - loss: 0.4821 - categorical_accuracy: 0.8363\n",
      "Epoch 00007: val_loss did not improve from 1.67747\n",
      "34/34 [==============================] - 298s 9s/step - loss: 0.4821 - categorical_accuracy: 0.8363 - val_loss: 3.3849 - val_categorical_accuracy: 0.1600 - lr: 2.0000e-04\n",
      "Epoch 8/10\n",
      "34/34 [==============================] - ETA: 0s - loss: 0.4457 - categorical_accuracy: 0.8281\n",
      "Epoch 00008: val_loss did not improve from 1.67747\n",
      "34/34 [==============================] - 305s 9s/step - loss: 0.4457 - categorical_accuracy: 0.8281 - val_loss: 2.5744 - val_categorical_accuracy: 0.2100 - lr: 2.0000e-04\n",
      "Epoch 9/10\n",
      "34/34 [==============================] - ETA: 0s - loss: 0.4049 - categorical_accuracy: 0.8567\n",
      "Epoch 00009: val_loss did not improve from 1.67747\n",
      "\n",
      "Epoch 00009: ReduceLROnPlateau reducing learning rate to 4.0000001899898055e-05.\n",
      "34/34 [==============================] - 292s 9s/step - loss: 0.4049 - categorical_accuracy: 0.8567 - val_loss: 2.9245 - val_categorical_accuracy: 0.1800 - lr: 2.0000e-04\n",
      "Epoch 10/10\n",
      "34/34 [==============================] - ETA: 0s - loss: 0.3196 - categorical_accuracy: 0.8967\n",
      "Epoch 00010: val_loss did not improve from 1.67747\n",
      "34/34 [==============================] - 291s 9s/step - loss: 0.3196 - categorical_accuracy: 0.8967 - val_loss: 2.8562 - val_categorical_accuracy: 0.2100 - lr: 4.0000e-05\n"
     ]
    }
   ],
   "source": [
    "print(\"Total Params:\", rnn_cnn1_model.count_params())\n",
    "history_model8=rnn_cnn1.train_model(rnn_cnn1_model,augment_data=True)"
   ]
  },
  {
   "cell_type": "code",
   "execution_count": null,
   "id": "88320ef9",
   "metadata": {},
   "outputs": [],
   "source": [
    "The Validation loss did not improved much and the model is overfitting"
   ]
  },
  {
   "cell_type": "code",
   "execution_count": 31,
   "id": "c0907e98",
   "metadata": {},
   "outputs": [
    {
     "data": {
      "image/png": "[encoded data removed]",
      "text/plain": [
       "<Figure size 1080x288 with 2 Axes>"
      ]
     },
     "metadata": {
      "needs_background": "light"
     },
     "output_type": "display_data"
    }
   ],
   "source": [
    "plot(history_model8)"
   ]
  },
  {
   "cell_type": "markdown",
   "id": "8bb3bc42",
   "metadata": {},
   "source": [
    "# CNN GRU Model"
   ]
  },
  {
   "cell_type": "code",
   "execution_count": 18,
   "id": "deaba1e6",
   "metadata": {},
   "outputs": [],
   "source": [
    "class RNNCNN2(ModelBuilder):\n",
    "    \n",
    "    def define_model(self,lstm_cells=64,dense_neurons=64,dropout=0.25):\n",
    "\n",
    "        model = Sequential()\n",
    "\n",
    "        model.add(TimeDistributed(Conv2D(16, (3, 3) , padding='same', activation='relu'),\n",
    "                                  input_shape=(self.frames_to_sample,self.image_height,self.image_width,self.channels)))\n",
    "        model.add(TimeDistributed(BatchNormalization()))\n",
    "        model.add(TimeDistributed(MaxPooling2D((2, 2))))\n",
    "        \n",
    "        model.add(TimeDistributed(Conv2D(32, (3, 3) , padding='same', activation='relu')))\n",
    "        model.add(TimeDistributed(BatchNormalization()))\n",
    "        model.add(TimeDistributed(MaxPooling2D((2, 2))))\n",
    "        \n",
    "        model.add(TimeDistributed(Conv2D(64, (3, 3) , padding='same', activation='relu')))\n",
    "        model.add(TimeDistributed(BatchNormalization()))\n",
    "        model.add(TimeDistributed(MaxPooling2D((2, 2))))\n",
    "        \n",
    "        model.add(TimeDistributed(Conv2D(128, (3, 3) , padding='same', activation='relu')))\n",
    "        model.add(TimeDistributed(BatchNormalization()))\n",
    "        model.add(TimeDistributed(MaxPooling2D((2, 2))))\n",
    "        \n",
    "\n",
    "        model.add(TimeDistributed(Flatten()))\n",
    "\n",
    "\n",
    "        model.add(GRU(lstm_cells))\n",
    "        model.add(Dropout(dropout))\n",
    "        \n",
    "        model.add(Dense(dense_neurons,activation='relu'))\n",
    "        model.add(Dropout(dropout))\n",
    "        \n",
    "        model.add(Dense(self.num_classes, activation='softmax'))\n",
    "        optimizer = tf.keras.optimizers.Adam()\n",
    "        model.compile(optimizer = tf.keras.optimizers.Adam(), loss='categorical_crossentropy', metrics=['categorical_accuracy'])\n",
    "        return model"
   ]
  },
  {
   "cell_type": "code",
   "execution_count": 19,
   "id": "d5c0354f",
   "metadata": {},
   "outputs": [
    {
     "name": "stdout",
     "output_type": "stream",
     "text": [
      "Model: \"sequential_5\"\n",
      "_________________________________________________________________\n",
      " Layer (type)                Output Shape              Param #   \n",
      "=================================================================\n",
      " time_distributed_16 (TimeDi  (None, 20, 128, 128, 16)  448      \n",
      " stributed)                                                      \n",
      "                                                                 \n",
      " time_distributed_17 (TimeDi  (None, 20, 128, 128, 16)  64       \n",
      " stributed)                                                      \n",
      "                                                                 \n",
      " time_distributed_18 (TimeDi  (None, 20, 64, 64, 16)   0         \n",
      " stributed)                                                      \n",
      "                                                                 \n",
      " time_distributed_19 (TimeDi  (None, 20, 64, 64, 32)   4640      \n",
      " stributed)                                                      \n",
      "                                                                 \n",
      " time_distributed_20 (TimeDi  (None, 20, 64, 64, 32)   128       \n",
      " stributed)                                                      \n",
      "                                                                 \n",
      " time_distributed_21 (TimeDi  (None, 20, 32, 32, 32)   0         \n",
      " stributed)                                                      \n",
      "                                                                 \n",
      " time_distributed_22 (TimeDi  (None, 20, 32, 32, 64)   18496     \n",
      " stributed)                                                      \n",
      "                                                                 \n",
      " time_distributed_23 (TimeDi  (None, 20, 32, 32, 64)   256       \n",
      " stributed)                                                      \n",
      "                                                                 \n",
      " time_distributed_24 (TimeDi  (None, 20, 16, 16, 64)   0         \n",
      " stributed)                                                      \n",
      "                                                                 \n",
      " time_distributed_25 (TimeDi  (None, 20, 16, 16, 128)  73856     \n",
      " stributed)                                                      \n",
      "                                                                 \n",
      " time_distributed_26 (TimeDi  (None, 20, 16, 16, 128)  512       \n",
      " stributed)                                                      \n",
      "                                                                 \n",
      " time_distributed_27 (TimeDi  (None, 20, 8, 8, 128)    0         \n",
      " stributed)                                                      \n",
      "                                                                 \n",
      " time_distributed_28 (TimeDi  (None, 20, 8192)         0         \n",
      " stributed)                                                      \n",
      "                                                                 \n",
      " gru (GRU)                   (None, 128)               3195648   \n",
      "                                                                 \n",
      " dropout_10 (Dropout)        (None, 128)               0         \n",
      "                                                                 \n",
      " dense_14 (Dense)            (None, 128)               16512     \n",
      "                                                                 \n",
      " dropout_11 (Dropout)        (None, 128)               0         \n",
      "                                                                 \n",
      " dense_15 (Dense)            (None, 5)                 645       \n",
      "                                                                 \n",
      "=================================================================\n",
      "Total params: 3,311,205\n",
      "Trainable params: 3,310,725\n",
      "Non-trainable params: 480\n",
      "_________________________________________________________________\n"
     ]
    }
   ],
   "source": [
    "rnn_cnn2=RNNCNN2()\n",
    "rnn_cnn2.initialize_path(project_folder)\n",
    "rnn_cnn2.initialize_image_properties(image_height=128,image_width=128)\n",
    "rnn_cnn2.initialize_hyperparams(frames_to_sample=20,batch_size=20,num_epochs=20)\n",
    "rnn_cnn2_model=rnn_cnn2.define_model(lstm_cells=128,dense_neurons=128,dropout=0.5)\n",
    "rnn_cnn2_model.summary()"
   ]
  },
  {
   "cell_type": "code",
   "execution_count": 20,
   "id": "e5065a52",
   "metadata": {},
   "outputs": [
    {
     "name": "stdout",
     "output_type": "stream",
     "text": [
      "Total Params: 3311205\n",
      "WARNING:tensorflow:`period` argument is deprecated. Please use `save_freq` to specify the frequency in number of batches seen.\n",
      "Epoch 1/20\n",
      "34/34 [==============================] - ETA: 0s - loss: 1.7842 - categorical_accuracy: 0.2738\n",
      "Epoch 00001: val_loss improved from inf to 3.06569, saving model to model_init_2023-03-1015_33_12.979949/model-00001-1.78422-0.27376-3.06569-0.26000.h5\n",
      "34/34 [==============================] - 201s 6s/step - loss: 1.7842 - categorical_accuracy: 0.2738 - val_loss: 3.0657 - val_categorical_accuracy: 0.2600 - lr: 0.0010\n",
      "Epoch 2/20\n",
      "34/34 [==============================] - ETA: 0s - loss: 1.4174 - categorical_accuracy: 0.3922\n",
      "Epoch 00002: val_loss improved from 3.06569 to 2.48142, saving model to model_init_2023-03-1015_33_12.979949/model-00002-1.41736-0.39216-2.48142-0.22000.h5\n",
      "34/34 [==============================] - 198s 6s/step - loss: 1.4174 - categorical_accuracy: 0.3922 - val_loss: 2.4814 - val_categorical_accuracy: 0.2200 - lr: 0.0010\n",
      "Epoch 3/20\n",
      "34/34 [==============================] - ETA: 0s - loss: 1.3514 - categorical_accuracy: 0.4201\n",
      "Epoch 00003: val_loss did not improve from 2.48142\n",
      "34/34 [==============================] - 194s 6s/step - loss: 1.3514 - categorical_accuracy: 0.4201 - val_loss: 2.8788 - val_categorical_accuracy: 0.1700 - lr: 0.0010\n",
      "Epoch 4/20\n",
      "34/34 [==============================] - ETA: 0s - loss: 1.1910 - categorical_accuracy: 0.5136\n",
      "Epoch 00004: val_loss improved from 2.48142 to 1.78491, saving model to model_init_2023-03-1015_33_12.979949/model-00004-1.19099-0.51357-1.78491-0.18000.h5\n",
      "34/34 [==============================] - 194s 6s/step - loss: 1.1910 - categorical_accuracy: 0.5136 - val_loss: 1.7849 - val_categorical_accuracy: 0.1800 - lr: 0.0010\n",
      "Epoch 5/20\n",
      "34/34 [==============================] - ETA: 0s - loss: 1.1108 - categorical_accuracy: 0.5573\n",
      "Epoch 00005: val_loss did not improve from 1.78491\n",
      "34/34 [==============================] - 194s 6s/step - loss: 1.1108 - categorical_accuracy: 0.5573 - val_loss: 3.3525 - val_categorical_accuracy: 0.2000 - lr: 0.0010\n",
      "Epoch 6/20\n",
      "34/34 [==============================] - ETA: 0s - loss: 1.1075 - categorical_accuracy: 0.5407\n",
      "Epoch 00006: val_loss did not improve from 1.78491\n",
      "34/34 [==============================] - 195s 6s/step - loss: 1.1075 - categorical_accuracy: 0.5407 - val_loss: 3.5480 - val_categorical_accuracy: 0.1600 - lr: 0.0010\n",
      "Epoch 7/20\n",
      "34/34 [==============================] - ETA: 0s - loss: 0.9642 - categorical_accuracy: 0.6244\n",
      "Epoch 00007: val_loss did not improve from 1.78491\n",
      "34/34 [==============================] - 196s 6s/step - loss: 0.9642 - categorical_accuracy: 0.6244 - val_loss: 2.7300 - val_categorical_accuracy: 0.2300 - lr: 0.0010\n",
      "Epoch 8/20\n",
      "34/34 [==============================] - ETA: 0s - loss: 0.8839 - categorical_accuracy: 0.6621\n",
      "Epoch 00008: val_loss did not improve from 1.78491\n",
      "\n",
      "Epoch 00008: ReduceLROnPlateau reducing learning rate to 0.00020000000949949026.\n",
      "34/34 [==============================] - 195s 6s/step - loss: 0.8839 - categorical_accuracy: 0.6621 - val_loss: 2.9092 - val_categorical_accuracy: 0.2200 - lr: 0.0010\n",
      "Epoch 9/20\n",
      "34/34 [==============================] - ETA: 0s - loss: 0.7744 - categorical_accuracy: 0.7164\n",
      "Epoch 00009: val_loss did not improve from 1.78491\n",
      "34/34 [==============================] - 194s 6s/step - loss: 0.7744 - categorical_accuracy: 0.7164 - val_loss: 3.2326 - val_categorical_accuracy: 0.2600 - lr: 2.0000e-04\n",
      "Epoch 10/20\n",
      "34/34 [==============================] - ETA: 0s - loss: 0.7202 - categorical_accuracy: 0.7247\n",
      "Epoch 00010: val_loss did not improve from 1.78491\n",
      "34/34 [==============================] - 195s 6s/step - loss: 0.7202 - categorical_accuracy: 0.7247 - val_loss: 2.8652 - val_categorical_accuracy: 0.2500 - lr: 2.0000e-04\n",
      "Epoch 11/20\n",
      "34/34 [==============================] - ETA: 0s - loss: 0.6787 - categorical_accuracy: 0.7572\n",
      "Epoch 00011: val_loss did not improve from 1.78491\n",
      "34/34 [==============================] - 195s 6s/step - loss: 0.6787 - categorical_accuracy: 0.7572 - val_loss: 3.0969 - val_categorical_accuracy: 0.2700 - lr: 2.0000e-04\n",
      "Epoch 12/20\n",
      "34/34 [==============================] - ETA: 0s - loss: 0.6347 - categorical_accuracy: 0.7504\n",
      "Epoch 00012: val_loss did not improve from 1.78491\n",
      "\n",
      "Epoch 00012: ReduceLROnPlateau reducing learning rate to 4.0000001899898055e-05.\n",
      "34/34 [==============================] - 198s 6s/step - loss: 0.6347 - categorical_accuracy: 0.7504 - val_loss: 3.1769 - val_categorical_accuracy: 0.3000 - lr: 2.0000e-04\n",
      "Epoch 13/20\n",
      "34/34 [==============================] - ETA: 0s - loss: 0.6161 - categorical_accuracy: 0.7692\n",
      "Epoch 00013: val_loss did not improve from 1.78491\n",
      "34/34 [==============================] - 197s 6s/step - loss: 0.6161 - categorical_accuracy: 0.7692 - val_loss: 2.9078 - val_categorical_accuracy: 0.3800 - lr: 4.0000e-05\n",
      "Epoch 14/20\n",
      "34/34 [==============================] - ETA: 0s - loss: 0.5625 - categorical_accuracy: 0.7896\n",
      "Epoch 00014: val_loss did not improve from 1.78491\n",
      "34/34 [==============================] - 194s 6s/step - loss: 0.5625 - categorical_accuracy: 0.7896 - val_loss: 2.2516 - val_categorical_accuracy: 0.3700 - lr: 4.0000e-05\n",
      "Epoch 00014: early stopping\n"
     ]
    }
   ],
   "source": [
    "print(\"Total Params:\", rnn_cnn2_model.count_params())\n",
    "history_model9=rnn_cnn2.train_model(rnn_cnn2_model,augment_data=True)"
   ]
  },
  {
   "cell_type": "markdown",
   "id": "4d040fcf",
   "metadata": {},
   "source": [
    "# Conclusion"
   ]
  },
  {
   "cell_type": "markdown",
   "id": "894d9355",
   "metadata": {},
   "source": [
    "After doing the experiments the convolution 3D model is performing better among all the other model.\n",
    "- The training accuracy is 89% and the validation accuracy is 84% ,also validation loss is decreasing.\n",
    "- With image_height=128,image_width=128 and bath_size =10 and frame size =30."
   ]
  },
  {
   "cell_type": "code",
   "execution_count": null,
   "id": "6258a1a1",
   "metadata": {},
   "outputs": [],
   "source": []
  },
  {
   "cell_type": "code",
   "execution_count": null,
   "id": "d9ff83e7",
   "metadata": {},
   "outputs": [],
   "source": []
  }
 ],
 "metadata": {
  "kernelspec": {
   "display_name": "Python 3 (ipykernel)",
   "language": "python",
   "name": "python3"
  },
  "language_info": {
   "codemirror_mode": {
    "name": "ipython",
    "version": 3
   },
   "file_extension": ".py",
   "mimetype": "text/x-python",
   "name": "python",
   "nbconvert_exporter": "python",
   "pygments_lexer": "ipython3",
   "version": "3.9.12"
  }
 },
 "nbformat": 4,
 "nbformat_minor": 5
}
